{
 "cells": [
  {
   "cell_type": "markdown",
   "metadata": {},
   "source": [
    "### Import required libraries"
   ]
  },
  {
   "cell_type": "code",
   "execution_count": 1,
   "metadata": {},
   "outputs": [],
   "source": [
    "from warnings import simplefilter\n",
    "# ignore all future warnings\n",
    "import warnings\n",
    "warnings.filterwarnings(\"ignore\")\n",
    "simplefilter(action='ignore', category=FutureWarning)\n",
    "import itertools\n",
    "import numpy as np\n",
    "import pandas as pd\n",
    "import statsmodels.api as sm\n",
    "import matplotlib.pyplot as plt\n",
    "#from sklearn.datasets import make_classification\n",
    "from sklearn.preprocessing import LabelEncoder\n",
    "from sklearn.preprocessing import StandardScaler\n",
    "from sklearn.model_selection import train_test_split\n",
    "from sklearn.calibration import calibration_curve\n",
    "from sklearn import metrics\n",
    "from sklearn.linear_model import LogisticRegression\n",
    "from sklearn.ensemble import RandomForestClassifier\n",
    "from sklearn.svm import SVC, LinearSVC\n",
    "from xgboost import XGBClassifier\n",
    "from sklearn.feature_selection import RFECV, RFE\n",
    "from sklearn.impute import SimpleImputer\n",
    "from sklearn.metrics import confusion_matrix, classification_report,roc_auc_score\n",
    "from sklearn.metrics import accuracy_score, precision_score, recall_score, f1_score \n",
    "from sklearn.metrics import roc_curve, precision_recall_curve, auc, make_scorer\n",
    "# import warnings filter\n",
    "\n",
    "from statistics import median \n",
    "import seaborn as sns\n",
    "import configparser\n",
    "import os\n",
    "\n",
    "%matplotlib inline"
   ]
  },
  {
   "cell_type": "markdown",
   "metadata": {},
   "source": [
    "### Define file name of configuration and import it"
   ]
  },
  {
   "cell_type": "code",
   "execution_count": 2,
   "metadata": {},
   "outputs": [],
   "source": [
    "config_fn = 'config.ini'\n",
    "\n",
    "def parse_list(config_str):\n",
    "    list_in_param = [x.strip() for x in config_str.split(',')]\n",
    "    return list_in_param\n",
    "\n",
    "def parse_dict(config_str):\n",
    "    removed_nl = config_str.replace('\\n', '')\n",
    "    return eval(removed_nl)\n",
    "\n",
    "config = configparser.ConfigParser()\n",
    "config.read(config_fn)\n",
    "config_IO = config['FileIO']\n",
    "\n",
    "file_path = config['FileIO']['file_path']\n",
    "data_path = file_path + config['FileIO']['data_path']\n",
    "plot_path = file_path + config['FileIO']['plot_path']\n",
    "result_path = file_path + config['FileIO']['result_path']\n",
    "\n",
    "out_paths = [plot_path, result_path]\n",
    "# Create the paths if they don't already exist\n",
    "for out_path in out_paths:\n",
    "    if not os.path.exists(out_path):\n",
    "        print('Created path: ', out_path)\n",
    "        os.mkdir(out_path)"
   ]
  },
  {
   "cell_type": "markdown",
   "metadata": {},
   "source": [
    "<a id='preprocessing'></a>\n",
    "# Data acquisition and pre-processing"
   ]
  },
  {
   "cell_type": "code",
   "execution_count": 3,
   "metadata": {},
   "outputs": [
    {
     "name": "stdout",
     "output_type": "stream",
     "text": [
      "Shape of raw data: (6400, 50)\n"
     ]
    }
   ],
   "source": [
    "# read data file\n",
    "raw_data_df = pd.read_csv(data_path+config_IO['raw_filename'])\n",
    "print('Shape of raw data:', raw_data_df.shape)"
   ]
  },
  {
   "cell_type": "markdown",
   "metadata": {},
   "source": [
    "### Exclude irrelevant features from the data"
   ]
  },
  {
   "cell_type": "code",
   "execution_count": 4,
   "metadata": {},
   "outputs": [],
   "source": [
    "columns_to_drop = parse_list(config['Pre-processing']['columns_to_drop'])\n",
    "raw_data_df.drop(columns_to_drop, axis = 1, inplace = True)"
   ]
  },
  {
   "cell_type": "markdown",
   "metadata": {},
   "source": [
    "### Remove duplicate entries of same patient from the data"
   ]
  },
  {
   "cell_type": "code",
   "execution_count": 5,
   "metadata": {},
   "outputs": [],
   "source": [
    "patient_id_col = config['Pre-processing']['patient_id_column']\n",
    "raw_data_df.drop_duplicates([patient_id_col],keep='first',inplace = True)\n",
    "raw_data_df.drop([patient_id_col], axis=1, inplace=True)"
   ]
  },
  {
   "cell_type": "markdown",
   "metadata": {},
   "source": [
    "### Keep patients who satisfy the conditions defined in the configuration file\n",
    "In our original article, we only analyzed patients that were confirmed to be positive for COVID-19 based on a PCR test. Similar conditions can be specified for other patient data as well."
   ]
  },
  {
   "cell_type": "code",
   "execution_count": 8,
   "metadata": {},
   "outputs": [],
   "source": [
    "filter_column = config['Pre-processing']['keep_only_matched_patient_column']\n",
    "filter_value = config['Pre-processing']['keep_only_matched_patient_value']\n",
    "\n",
    "if filter_column != '':\n",
    "    if filter_column in raw_data_df.columns:\n",
    "        raw_data_df = raw_data_df[raw_data_df[filter_column] == filter_value]\n",
    "    else:\n",
    "        print(filter_column, \" is not one of the columns of raw data file\")"
   ]
  },
  {
   "cell_type": "markdown",
   "metadata": {},
   "source": [
    "### Extract the outcome variable from the dataset, as specified in the configuration file"
   ]
  },
  {
   "cell_type": "code",
   "execution_count": 9,
   "metadata": {},
   "outputs": [],
   "source": [
    "outcome_col = config['Pre-processing']['outcome_column']\n",
    "y_raw_df = raw_data_df[outcome_col]\n",
    "outcome_pos_value = parse_list(config['Pre-processing']['outcome_pos_value'])\n",
    "outcome_neg_value = parse_list(config['Pre-processing']['outcome_neg_value'])\n",
    "\n",
    "y_raw_df.replace(outcome_pos_value, 1, inplace=True)\n",
    "y_raw_df.replace(outcome_neg_value, 0, inplace=True)"
   ]
  },
  {
   "cell_type": "code",
   "execution_count": 10,
   "metadata": {},
   "outputs": [],
   "source": [
    "columns_to_drop_2 = [outcome_col]\n",
    "if filter_column != 'None':\n",
    "    if filter_column in raw_data_df.columns:\n",
    "        columns_to_drop_2.append(filter_column)\n",
    "df_dropped_outcome = raw_data_df.drop(columns_to_drop_2,axis = 1)\n",
    "# print(df_dropped_outcome.info(verbose=True))"
   ]
  },
  {
   "cell_type": "markdown",
   "metadata": {},
   "source": [
    "### Replace unknown values in the readmission data with NaNs"
   ]
  },
  {
   "cell_type": "code",
   "execution_count": 11,
   "metadata": {},
   "outputs": [],
   "source": [
    "# replaced unknown value defined in configuration file, eg. ‘unknown’, ‘not asked’, etc with NaN\n",
    "\n",
    "unknown_value_list = parse_list(config['Pre-processing']['unknown_value'])\n",
    "\n",
    "for u in unknown_value_list:\n",
    "    df_dropped_outcome.replace(to_replace=u, value=np.nan, inplace=True)\n",
    "\n",
    "\n",
    "    "
   ]
  },
  {
   "cell_type": "markdown",
   "metadata": {},
   "source": [
    "#### [Only for readmission data, not used for COVID-19 data] \n",
    "\n",
    "Map the values from the table defined in `[Pre-processing] value_replacing_dictionary` in the configuration file"
   ]
  },
  {
   "cell_type": "code",
   "execution_count": 12,
   "metadata": {},
   "outputs": [],
   "source": [
    "value_replaced_dict = parse_dict(config['Pre-processing']['value_replacing_dictionary'])\n",
    "\n",
    "for k, v in value_replaced_dict.items():\n",
    "    df_dropped_outcome.replace(to_replace=k, value=v, inplace=True)"
   ]
  },
  {
   "cell_type": "markdown",
   "metadata": {},
   "source": [
    "### Perform label encoding for categorical features/variables"
   ]
  },
  {
   "cell_type": "code",
   "execution_count": 13,
   "metadata": {},
   "outputs": [],
   "source": [
    "df_dropped_outcome_obj = df_dropped_outcome.select_dtypes(include=['object']).copy()\n",
    "dfTmp = df_dropped_outcome_obj\n",
    "mask = dfTmp.isnull()\n",
    "dfTmp = dfTmp.astype(str).apply(LabelEncoder().fit_transform)\n",
    "df_LE = dfTmp.where(~mask, df_dropped_outcome_obj)"
   ]
  },
  {
   "cell_type": "code",
   "execution_count": 14,
   "metadata": {},
   "outputs": [],
   "source": [
    "df_dropped_obj = df_dropped_outcome.drop(df_LE.columns.tolist(), axis = 1)\n",
    "df_final = pd.concat([df_dropped_obj,df_LE], axis = 1)"
   ]
  },
  {
   "cell_type": "markdown",
   "metadata": {},
   "source": [
    "### Remove features which have more than 99% constant values"
   ]
  },
  {
   "cell_type": "code",
   "execution_count": 15,
   "metadata": {},
   "outputs": [],
   "source": [
    "df_features_constants = pd.DataFrame({'features':df_final.sum().index.tolist(),'values':df_final.sum().values.tolist()})\n",
    "df_dropped_features_constants = df_final[df_features_constants[df_features_constants['values'] > df_final.shape[0]*0.01].features.tolist()]\n",
    "X_df = df_final[df_dropped_features_constants.columns.tolist()]"
   ]
  },
  {
   "cell_type": "markdown",
   "metadata": {},
   "source": [
    "### Split pre-processed data into development and test sets in an 80:20 ratio\n",
    "\n",
    "As in our original COVID-19 study, the following code creates and processes a development set to train and evaluate candidate classifiers, and a first test set to evaluate the final classifier obtained from the whole development set. \n"
   ]
  },
  {
   "cell_type": "code",
   "execution_count": 16,
   "metadata": {},
   "outputs": [],
   "source": [
    "development_features, test_features, development_labels, test_labels = train_test_split(X_df,y_raw_df,test_size=0.2,stratify = y_raw_df, random_state=64)\n"
   ]
  },
  {
   "cell_type": "markdown",
   "metadata": {},
   "source": [
    "### Export development and test sets to csv files"
   ]
  },
  {
   "cell_type": "code",
   "execution_count": 17,
   "metadata": {},
   "outputs": [
    {
     "name": "stdout",
     "output_type": "stream",
     "text": [
      "Finished preprocessing!\n"
     ]
    }
   ],
   "source": [
    "development_features.to_csv(data_path+config_IO['df_development'],index=False)\n",
    "development_labels.to_csv(data_path+config_IO['y_development'],index=False)\n",
    "test_features.to_csv(data_path+config_IO['df_test'],index=False)\n",
    "test_labels.to_csv(data_path+config_IO['y_test'],index=False)\n",
    "print('Finished pre-processing!')"
   ]
  },
  {
   "cell_type": "markdown",
   "metadata": {},
   "source": [
    "<a id='missing_value_imputation'></a>\n",
    "# Missing value imputation process\n",
    "Import the development set along with its respective  outcome values, and carry out analyses to identify the optimal missing value level."
   ]
  },
  {
   "cell_type": "code",
   "execution_count": 18,
   "metadata": {},
   "outputs": [],
   "source": [
    "\n",
    "\n",
    "df_development = pd.read_csv(data_path + config_IO['df_development'])\n",
    "y_development = pd.read_csv(data_path + config_IO['y_development'])"
   ]
  },
  {
   "cell_type": "markdown",
   "metadata": {},
   "source": [
    "### Transform the continuous features first"
   ]
  },
  {
   "cell_type": "code",
   "execution_count": 19,
   "metadata": {},
   "outputs": [],
   "source": [
    "continous_feature = parse_list(config['Continuous_feature']['continuous_feature'])\n",
    "X_development_cont = df_development[continous_feature]"
   ]
  },
  {
   "cell_type": "markdown",
   "metadata": {},
   "source": [
    "### Scale all continuous features into z-scores (standard scaling)"
   ]
  },
  {
   "cell_type": "code",
   "execution_count": 20,
   "metadata": {},
   "outputs": [],
   "source": [
    "ss = StandardScaler()\n",
    "development_features_ss = pd.DataFrame(ss.fit_transform(X_development_cont), columns =  X_development_cont.columns.tolist())"
   ]
  },
  {
   "cell_type": "markdown",
   "metadata": {},
   "source": [
    "### Select categorical features"
   ]
  },
  {
   "cell_type": "code",
   "execution_count": 21,
   "metadata": {},
   "outputs": [],
   "source": [
    "columns = X_development_cont.columns.tolist()\n",
    "X_development_cate_miss = df_development.drop(columns,axis =1)\n",
    "categorical_feature = X_development_cate_miss.columns.tolist()"
   ]
  },
  {
   "cell_type": "markdown",
   "metadata": {},
   "source": [
    "### Concatenate transformed continuous and categorical features"
   ]
  },
  {
   "cell_type": "code",
   "execution_count": 22,
   "metadata": {},
   "outputs": [],
   "source": [
    "df_development_scaled = pd.concat([development_features_ss, X_development_cate_miss], axis=1)"
   ]
  },
  {
   "cell_type": "markdown",
   "metadata": {},
   "source": [
    "### Find highly correlated/collinear features (>0.90)"
   ]
  },
  {
   "cell_type": "code",
   "execution_count": 23,
   "metadata": {},
   "outputs": [],
   "source": [
    "# Create correlation matrix\n",
    "corr_matrix = df_development_scaled.corr().abs()\n",
    "# Select upper triangle of correlation matrix\n",
    "upper = corr_matrix.where(np.triu(np.ones(corr_matrix.shape), k=1).astype(np.bool))\n",
    "# Find index of feature columns with correlation greater than 0.90\n",
    "to_drop = [column for column in upper.columns if any(upper[column] > 0.9)]"
   ]
  },
  {
   "cell_type": "markdown",
   "metadata": {},
   "source": [
    "### Drop the highly correlated features from the dataframe, since they may be redundant"
   ]
  },
  {
   "cell_type": "code",
   "execution_count": 25,
   "metadata": {},
   "outputs": [
    {
     "name": "stdout",
     "output_type": "stream",
     "text": [
      "None of the columns is dropped.\n"
     ]
    }
   ],
   "source": [
    "df_development_scaled_dropped =  df_development_scaled.drop(to_drop , axis=1 )\n",
    "if len(to_drop) == 0:\n",
    "    print('None of the columns is dropped due to highly correlated features/columns.')\n",
    "else:\n",
    "    print('Column(s) being dropped due to their high correlation(s) with other features/columns:')\n",
    "    print(to_drop)"
   ]
  },
  {
   "cell_type": "code",
   "execution_count": 26,
   "metadata": {},
   "outputs": [],
   "source": [
    "# Construct an array of the labels/outcomes of the development set\n",
    "y_development_np = y_development.values"
   ]
  },
  {
   "cell_type": "markdown",
   "metadata": {},
   "source": [
    "#### Function for getting prediction scores from different classifiers"
   ]
  },
  {
   "cell_type": "code",
   "execution_count": 27,
   "metadata": {},
   "outputs": [],
   "source": [
    "def proba_score(est_model, feat):\n",
    "    if hasattr(est_model, \"predict_proba\"):\n",
    "        y_1 = est_model.predict_proba(feat)[:,1]\n",
    "        y_0 = est_model.predict_proba(feat)[:,0]\n",
    "    else:  # use decision function\n",
    "        prob_pos = est_model.decision_function(feat)\n",
    "        y_1 = prob_pos\n",
    "        y_0 = -1*prob_pos\n",
    "        \n",
    "    return y_1, y_0"
   ]
  },
  {
   "cell_type": "markdown",
   "metadata": {},
   "source": [
    "### Repeat missing value imputation 100 times and assess average performance at different missing value levels\n",
    "In the following block of code, the development dataset is randomly split into a 75% subset for training classifiers after imputation and a 25% subset for performance evaluation. Multiple classifiers are trained after dropping features missing in more than a certain percentage (from 0% to 60% in steps of 5%). Performance of the resultant classifiers is measured in terms of the AUC score.\n",
    "\n",
    "This process is repeated 100 times (see for loop below), and the results are stored in csv files for further analysis and visualization\n"
   ]
  },
  {
   "cell_type": "code",
   "execution_count": 28,
   "metadata": {},
   "outputs": [
    {
     "name": "stdout",
     "output_type": "stream",
     "text": [
      "Running 10th imputation measurement...\n",
      "Running 20th imputation measurement...\n",
      "Running 30th imputation measurement...\n",
      "Running 40th imputation measurement...\n",
      "Running 50th imputation measurement...\n",
      "Running 60th imputation measurement...\n",
      "Running 70th imputation measurement...\n",
      "Running 80th imputation measurement...\n",
      "Running 90th imputation measurement...\n",
      "Done!\n"
     ]
    }
   ],
   "source": [
    "\n",
    "# Creating Scores Container\n",
    "\n",
    "performance_dict_final = {}\n",
    "dict_clf = {'rf': RandomForestClassifier(),\n",
    "            'lr': LogisticRegression(), \n",
    "            'svm': LinearSVC(), \n",
    "            'xgb': XGBClassifier()}\n",
    "\n",
    "\n",
    "list_measure = ['AUC']\n",
    "\n",
    "for c, c_class in dict_clf.items():\n",
    "    performance_dict_final[c] = {}\n",
    "    for m in list_measure:\n",
    "        performance_dict_final[c][m] = []\n",
    "\n",
    "missing_percentages = range(0,61,5)\n",
    "\n",
    "\n",
    "for i in range(0,100):\n",
    "    train_features, holdout_features, train_labels, holdout_labels = train_test_split(df_development_scaled_dropped,\n",
    "                                                                              y_development_np,test_size=0.25,\n",
    "                                                                              stratify = y_development_np)   \n",
    "    if (i % 10 == 0) and (i != 0):\n",
    "        print('Running {}th imputation measurement...'.format(i))\n",
    "    \n",
    "    performance_dict = {}\n",
    "    for c, c_class in dict_clf.items():\n",
    "        performance_dict[c] = {}\n",
    "        for m in list_measure:\n",
    "            performance_dict[c][m] = []\n",
    "        \n",
    "    for j in missing_percentages:# (0,61,5)\n",
    "        \n",
    "        # drop features (columns) with missing values in 0,5,10,15,20,25....,60% of the patients\n",
    "        train_features_cutoff = train_features[train_features.columns[(train_features.isna().mean().round(4) * 100 <=j)].tolist()]\n",
    "        holdout_features_cutoff = holdout_features[train_features.columns[(train_features.isna().mean().round(4) * 100 <=j)].tolist()]\n",
    "\n",
    "        # select the continuous features of the training and holdout sets\n",
    "        train_features_cont = train_features_cutoff[list(set(train_features_cutoff.columns.tolist()) & set(continous_feature))]\n",
    "        holdout_features_cont = holdout_features_cutoff[list(set(holdout_features_cutoff.columns.tolist()) & set(continous_feature))]\n",
    "\n",
    "        # select the categorical features of the training and holdout sets\n",
    "        train_features_cate = train_features_cutoff[list(set(train_features_cutoff.columns.tolist()) & set(categorical_feature))]\n",
    "        holdout_features_cate = holdout_features_cutoff[list(set(holdout_features_cutoff.columns.tolist()) & set(categorical_feature))]\n",
    "    \n",
    "        # Missing values of the continuous features are imputed with the mean of their respective available values\n",
    "        my_imputer = SimpleImputer(strategy = 'mean')\n",
    "        imputed_train_features_cont = pd.DataFrame(my_imputer.fit_transform(train_features_cont),columns =train_features_cont.columns.tolist())\n",
    "        imputed_holdout_features_cont = pd.DataFrame(my_imputer.transform(holdout_features_cont),columns =holdout_features_cont.columns.tolist())\n",
    "\n",
    "        # Missing values of the categorical features are imputed with the mode of their respective available values\n",
    "        my_imputer_mf = SimpleImputer(strategy = \"most_frequent\")\n",
    "        imputed_X_train_cate = pd.DataFrame(my_imputer_mf.fit_transform(train_features_cate),columns = train_features_cate.columns.tolist())\n",
    "        imputed_X_holdout_cate = pd.DataFrame(my_imputer_mf.transform(holdout_features_cate),columns = holdout_features_cate.columns.tolist())\n",
    "\n",
    "        # concatenate all continuous and categorical features after imputation\n",
    "        train_features_final = pd.concat([imputed_train_features_cont,imputed_X_train_cate], axis=1)\n",
    "        holdout_features_final = pd.concat([imputed_holdout_features_cont,imputed_X_holdout_cate], axis=1)\n",
    "\n",
    "        \n",
    "        # Training and evaluating classifiers at different missing value levels\n",
    "        for clf_key, clf_var in dict_clf.items():\n",
    "            clf_var.fit(train_features_final, train_labels)\n",
    "            y_pred = clf_var.predict(holdout_features_final)\n",
    "\n",
    "            y_score, y_score_0 = proba_score(clf_var, holdout_features_final)\n",
    "\n",
    "            fpr, tpr, th = metrics.roc_curve(holdout_labels, y_score, pos_label = 1)\n",
    "            auc_roc = metrics.auc(fpr, tpr)  \n",
    "\n",
    "\n",
    "            score_list_of_clf = [auc_roc]\n",
    "\n",
    "            for m_idx, m in enumerate(list_measure):\n",
    "                performance_dict[clf_key][m].append(score_list_of_clf[m_idx])\n",
    "\n",
    "        \n",
    "    \n",
    "    for c, c_class in dict_clf.items():\n",
    "        for m in list_measure:\n",
    "            performance_dict_final[c][m].append(performance_dict[c][m])\n",
    "\n",
    "print('Done!')"
   ]
  },
  {
   "cell_type": "markdown",
   "metadata": {},
   "source": [
    "### Save the results of missing value imputation"
   ]
  },
  {
   "cell_type": "code",
   "execution_count": 30,
   "metadata": {
    "scrolled": true
   },
   "outputs": [
    {
     "name": "stdout",
     "output_type": "stream",
     "text": [
      "Finished saving results of imputation!\n"
     ]
    }
   ],
   "source": [
    "missing_percentage_columns = ['{}%'.format(int(p)) for p in missing_percentages]\n",
    "\n",
    "for c, c_class in dict_clf.items():\n",
    "    for m in list_measure:\n",
    "        df_temp = pd.DataFrame(performance_dict_final[c][m], columns=missing_percentage_columns)\n",
    "        df_temp.to_csv(result_path+'df_{}_{}.csv'.format(m, c), index=False)\n",
    "\n",
    "print('Finished saving results of imputation!')"
   ]
  },
  {
   "cell_type": "markdown",
   "metadata": {},
   "source": [
    "<a id='figure2a'></a>\n",
    "### Generate a figure summarizing the results of the missing value imputation process\n",
    "\n",
    "This code generates the missing value imputation results such as those shown in Figure 2A in the paper."
   ]
  },
  {
   "cell_type": "code",
   "execution_count": 31,
   "metadata": {},
   "outputs": [],
   "source": [
    "df_AUC_rf = pd.read_csv(result_path+'df_AUC_rf.csv')\n",
    "df_AUC_lr = pd.read_csv(result_path+'df_AUC_lr.csv')\n",
    "df_AUC_svm = pd.read_csv(result_path+'df_AUC_svm.csv')\n",
    "df_AUC_xgb = pd.read_csv(result_path+'df_AUC_xgb.csv')"
   ]
  },
  {
   "cell_type": "code",
   "execution_count": 32,
   "metadata": {},
   "outputs": [
    {
     "data": {
      "image/png": "[encoded data removed]",
      "text/plain": [
       "<Figure size 432x288 with 1 Axes>"
      ]
     },
     "metadata": {
      "needs_background": "light"
     },
     "output_type": "display_data"
    }
   ],
   "source": [
    "plt.figure(figsize=(6,4))\n",
    "import numpy as np\n",
    "import matplotlib.pyplot as plt\n",
    "\n",
    "#plt.subplot(325)\n",
    "x = missing_percentages\n",
    "\n",
    "RF_auc = df_AUC_rf.mean()\n",
    "RF_auc_etd_er = df_AUC_rf.sem(axis = 0)\n",
    "LR_auc = df_AUC_lr.mean()\n",
    "LR_auc_etd_er = df_AUC_lr.sem(axis = 0)\n",
    "SVM_auc = df_AUC_svm.mean()\n",
    "SVM_auc_etd_er = df_AUC_svm.sem(axis = 0)\n",
    "XGB_auc = df_AUC_xgb.mean()\n",
    "XGB_auc_etd_er = df_AUC_xgb.sem(axis = 0)\n",
    "\n",
    "plt.plot(x, XGB_auc,'b-',label='XGB',linewidth=2,markersize = 10)\n",
    "plt.errorbar(x, XGB_auc, yerr=XGB_auc_etd_er, fmt='',linestyle='None', ecolor='b', linewidth=2,capthick=2, uplims=True, lolims=True)\n",
    "\n",
    "plt.plot(x, LR_auc,'-',color ='brown',label='LR',linewidth=2,markersize = 10)\n",
    "plt.errorbar(x, LR_auc, yerr=LR_auc_etd_er, fmt='',linestyle='None', ecolor='brown',linewidth=2, capthick=2, uplims=True, lolims=True)\n",
    "\n",
    "plt.plot(x, SVM_auc,'-',color ='olive',label='SVM',linewidth=2,markersize = 10)\n",
    "plt.errorbar(x, SVM_auc, yerr=SVM_auc_etd_er, fmt='',linestyle='None', ecolor='olive', linewidth=2,capthick=2, uplims=True, lolims=True)\n",
    "\n",
    "plt.plot(x, RF_auc,'-',color = 'darkorange',label='RF',linewidth=2,markersize = 10)\n",
    "plt.errorbar(x, RF_auc, yerr=RF_auc_etd_er, fmt='',linestyle='None', ecolor='darkorange',linewidth=2, capthick=2,uplims=True, lolims=True)\n",
    "\n",
    "plt.xlabel('Missing value level (%)', fontsize=18)\n",
    "# plt.xticks(np.arange(0, 61, step=5),fontsize=12)\n",
    "plt.yticks( fontsize=12)\n",
    "plt.ylabel('AUC', fontsize=18)\n",
    "plt.ylim([0.50,1.00])\n",
    "plt.legend(( 'XGBoost','LR', 'SVM','RF'), loc='lower right', fontsize=16)\n",
    "\n",
    "plt.tight_layout()\n",
    "# save the figure in tiff file\n",
    "plt.savefig(plot_path+\"Figure_2A.tiff\", dpi=600, format=\"tiff\", pil_kwargs={\"compression\": \"tiff_lzw\"})"
   ]
  },
  {
   "cell_type": "markdown",
   "metadata": {},
   "source": [
    "From the resultant Figure 2A in our article, we found that the 20% missing value level yielded the most accurate prediction, and hence, we dropped any features with >20% missing values."
   ]
  },
  {
   "cell_type": "markdown",
   "metadata": {},
   "source": [
    "Based on the results in the above plot, the user can set the value of the `missing_value_level` code variable to that at which the performance is maximized. Based on the results in the above plot for the readmission dataset, which doesn’t show much variation, we are setting this value to 20, as we did in the original COVID-19 article. This variable, and its value, will be used in further analyses."
   ]
  },
  {
   "cell_type": "code",
   "execution_count": 56,
   "metadata": {},
   "outputs": [],
   "source": [
    "missing_value_level = 20"
   ]
  },
  {
   "cell_type": "markdown",
   "metadata": {},
   "source": [
    "# Feature selection using recursive feature elimination (RFE)\n",
    "\n",
    "\n",
    "RFE is a feature selection method, which automatically selects a subset of features with potentially better performance than all the features. The following code implements the various parts of the process used in our study. "
   ]
  },
  {
   "cell_type": "code",
   "execution_count": 57,
   "metadata": {},
   "outputs": [],
   "source": [
    "# Again import the development data set, include the features with acceptable missing value levels, \n",
    "# and prepare it for RFE experiments using the same pre-processing steps implemented above.\n",
    "config = configparser.ConfigParser()\n",
    "config.read(config_fn)\n",
    "config_IO = config['FileIO']\n",
    "\n",
    "df_development = pd.read_csv(data_path+config_IO['df_development'])\n",
    "y_development = pd.read_csv(data_path+config_IO['y_development'])"
   ]
  },
  {
   "cell_type": "code",
   "execution_count": 58,
   "metadata": {},
   "outputs": [
    {
     "name": "stdout",
     "output_type": "stream",
     "text": [
      "The dimension of data after filtering: (4935, 31)\n"
     ]
    }
   ],
   "source": [
    "df_development_dropped_missed  = df_development[df_development.columns[(df_development.isna().mean().round(4) * 100 <= missing_value_level)].tolist()]\n",
    "print('The dimension of data after filtering:', df_development_dropped_missed.shape)"
   ]
  },
  {
   "cell_type": "code",
   "execution_count": 59,
   "metadata": {},
   "outputs": [],
   "source": [
    "# Impute features in the development set that satisfied the best missing value level determined in the above code block\n",
    "\n",
    "X_development_cont = df_development_dropped_missed[list(set(continous_feature)&set(df_development_dropped_missed.columns.tolist()))]\n",
    "\n",
    "# Impute continuous features with the mean of their respective available values using the SimpleImputer library\n",
    "my_imputer = SimpleImputer(strategy = 'mean')\n",
    "imputed_X_development_cont = pd.DataFrame(my_imputer.fit_transform(X_development_cont), columns = X_development_cont.columns.tolist())\n",
    "\n",
    "# Normalize the continuous features into z-scores using the StandardScaler  library\n",
    "ss = StandardScaler()\n",
    "development_features_ss = pd.DataFrame(ss.fit_transform(imputed_X_development_cont), columns =  imputed_X_development_cont.columns.tolist())\n",
    "\n",
    "# Drop continuous variables from the dataframe to select categorical variables\n",
    "columns = X_development_cont.columns.tolist()\n",
    "X_cate_miss = df_development_dropped_missed.drop(columns,axis =1)\n",
    "\n",
    "# Impute missing values in categorical features using the mode of their respective available values\n",
    "my_imputer_mf = SimpleImputer(strategy = \"most_frequent\")\n",
    "imputed_X_development_cate = pd.DataFrame(my_imputer_mf.fit_transform(X_cate_miss),columns = X_cate_miss.columns.tolist())\n",
    "\n",
    "# Concatenate the resultant continuous and categorical features after imputation\n",
    "df_development_imputed = pd.concat([development_features_ss,imputed_X_development_cate], axis=1)\n",
    "\n",
    "# Finding highly correlated features (>0.90) among the revised set of features\n",
    "# Create correlation matrix\n",
    "corr_matrix = df_development_imputed.corr().abs()\n",
    "# Select upper triangle of correlation matrix\n",
    "upper = corr_matrix.where(np.triu(np.ones(corr_matrix.shape), k=1).astype(np.bool))\n",
    "# Find index of feature columns with correlation greater than 0.90\n",
    "to_drop = [column for column in upper.columns if any(upper[column] > 0.9)]\n",
    "\n",
    "# Drop highly correlated features from datafram\n",
    "df_development_imputed_dropped_high_corr =  df_development_imputed.drop(to_drop , axis=1 )\n"
   ]
  },
  {
   "cell_type": "markdown",
   "metadata": {},
   "source": [
    "### Repeat the RFE-based feature selection process 100 times\n",
    "In the following block of code, the development dataset is split into a 75% subset for selecting features and training candidate classifiers, and a 25% subset for evaluating these classifiers. This process is repeated 100 times (see the second “for” loop below), and the results stored into csv files for further analysis and visualization. Performance is measured in terms of the AUC score, and all the relevant statistics are stored at the end of the code block. We start with basic settings for the RFE analysis."
   ]
  },
  {
   "cell_type": "code",
   "execution_count": 60,
   "metadata": {},
   "outputs": [
    {
     "name": "stdout",
     "output_type": "stream",
     "text": [
      "Total number of features =  31\n"
     ]
    }
   ],
   "source": [
    "total_num_feat = df_development_imputed_dropped_high_corr.shape[1]\n",
    "print('Total number of features = ', total_num_feat)    "
   ]
  },
  {
   "cell_type": "markdown",
   "metadata": {},
   "source": [
    "The `step_size` variable below can be set to determine the list of the number of features that should be tested in this analysis. For readmission data, we set the value of this variable to 5."
   ]
  },
  {
   "cell_type": "code",
   "execution_count": 61,
   "metadata": {},
   "outputs": [
    {
     "name": "stdout",
     "output_type": "stream",
     "text": [
      "The list of number of subset features we would like to test:\n",
      "[ 1  6 11 16 21 26 31]\n"
     ]
    }
   ],
   "source": [
    "step_size = 5\n",
    "no_features_to_pick_list = np.array(range(1,total_num_feat+1, step_size))\n",
    "if not total_num_feat in no_features_to_pick_list:\n",
    "    no_features_to_pick_list = np.append(no_features_to_pick_list, [total_num_feat])\n",
    "    \n",
    "print('The list of number of subset features we would like to test:')\n",
    "print(no_features_to_pick_list)"
   ]
  },
  {
   "cell_type": "markdown",
   "metadata": {},
   "source": [
    "Note that this code, and the following, code can be modified to pre-specify the number of features to be tested (instead of step size), as we did in our original COVID-19 study."
   ]
  },
  {
   "cell_type": "markdown",
   "metadata": {},
   "source": [
    "The following code block implements the RFE-based feature selection process, combined with the four classification algorithms used in our original study, and stores all the results for further analysis and visualization."
   ]
  },
  {
   "cell_type": "code",
   "execution_count": 62,
   "metadata": {},
   "outputs": [
    {
     "name": "stdout",
     "output_type": "stream",
     "text": [
      "20th round of XGBoost training is running...\n",
      "40th round of XGBoost training is running...\n",
      "60th round of XGBoost training is running...\n",
      "80th round of XGBoost training is running...\n",
      "20th round of LR training is running...\n",
      "40th round of LR training is running...\n",
      "60th round of LR training is running...\n",
      "80th round of LR training is running...\n",
      "20th round of SVM training is running...\n",
      "40th round of SVM training is running...\n",
      "60th round of SVM training is running...\n",
      "80th round of SVM training is running...\n",
      "20th round of RF training is running...\n",
      "40th round of RF training is running...\n",
      "60th round of RF training is running...\n",
      "80th round of RF training is running...\n"
     ]
    }
   ],
   "source": [
    "feature_df = df_development_imputed_dropped_high_corr\n",
    "\n",
    "feature_np_array = feature_df.values\n",
    "set_of_seed = range(100)\n",
    "outcome_np_array = y_development_np\n",
    "\n",
    "\n",
    "total_feature = feature_df.shape[1]\n",
    "feature_name_list = list(feature_df.columns.values)\n",
    "estimator_dict = {\n",
    "            'XGBoost': XGBClassifier(),\n",
    "            'LR': LogisticRegression(),\n",
    "            'SVM': LinearSVC(),\n",
    "            'RF': RandomForestClassifier()\n",
    "}\n",
    "\n",
    "\n",
    "# Container of the RFE results\n",
    "all_result_df_list = []\n",
    "\n",
    "result_df = pd.DataFrame(columns=['seed', 'classifier', 'num_features_picked', 'AUC'] + feature_name_list)\n",
    "result_col = result_df.columns\n",
    "\n",
    "result_container = dict()\n",
    "\n",
    "\n",
    "# Iterating over classification algorithms\n",
    "for est_name, est in estimator_dict.items():\n",
    "    auc_mean_list = []\n",
    "    auc_se_list = []\n",
    "    # This for loop generates the training-holdout splits of the development set to evaluate the above algorithms \n",
    "    # with different feature subsets\n",
    "    for random_seed in set_of_seed:\n",
    "        if (random_seed % 20 == 0) and (random_seed != 0):\n",
    "            print('{}th round of {} training is running...'.format(random_seed, est_name))\n",
    "        train_features, holdout_features, train_labels, holdout_labels = train_test_split(\n",
    "            feature_df, outcome_np_array, test_size=0.25, stratify = outcome_np_array)\n",
    "        est_var = est\n",
    "        selector = RFE(estimator=est_var, step=1, n_features_to_select=1)\n",
    "        selector = selector.fit(train_features, train_labels)\n",
    "        rank_f = selector.ranking_\n",
    "\n",
    "        for n_f in no_features_to_pick_list:\n",
    "\n",
    "            selected_feat = rank_f <= n_f\n",
    "            est_var = est\n",
    "            est_var.fit(train_features.iloc[:,selected_feat], train_labels)\n",
    "            if hasattr(est_var, \"predict_proba\"):\n",
    "                prob_pos = est_var.predict_proba(holdout_features.iloc[:,selected_feat])[:,1]\n",
    "            else:  # use decision function\n",
    "                prob_pos = est_var.decision_function(holdout_features.iloc[:,selected_feat])\n",
    "            auc = roc_auc_score(holdout_labels, prob_pos)\n",
    "            dict_to_append = {'seed': random_seed, 'classifier': est_name, 'num_features_picked': n_f, 'AUC': auc}\n",
    "\n",
    "            for idx, f_name in enumerate(feature_name_list):\n",
    "                dict_to_append[f_name] = selected_feat[idx]\n",
    "            result_df = result_df.append(dict_to_append, ignore_index=True)\n",
    "\n",
    "    \n",
    "all_result_df_list.append(result_df)\n",
    "\n"
   ]
  },
  {
   "cell_type": "code",
   "execution_count": 63,
   "metadata": {},
   "outputs": [
    {
     "name": "stdout",
     "output_type": "stream",
     "text": [
      "Feature selection results saved.\n"
     ]
    }
   ],
   "source": [
    "all_result_df = pd.concat(all_result_df_list)\n",
    "# save results in a csv file\n",
    "all_result_df.to_csv(result_path+'RFE_result.csv')\n",
    "print('Feature selection results saved.')"
   ]
  },
  {
   "cell_type": "markdown",
   "metadata": {},
   "source": [
    "### Generate a figure summarizing the AUC scores of the four classification algorithms with subsets of features selected by RFE\n",
    "This code generates the feature selection results such as those shown in Figure 2B in the paper.  Specifically, this figure plots how the performance of the tested classification algorithms varies with the different number of features tested in this feature selection process."
   ]
  },
  {
   "cell_type": "code",
   "execution_count": 64,
   "metadata": {},
   "outputs": [
    {
     "name": "stdout",
     "output_type": "stream",
     "text": [
      "Done!\n"
     ]
    },
    {
     "data": {
      "image/png": "[encoded data removed]",
      "text/plain": [
       "<Figure size 432x288 with 1 Axes>"
      ]
     },
     "metadata": {
      "needs_background": "light"
     },
     "output_type": "display_data"
    }
   ],
   "source": [
    "fig = plt.figure(figsize=(6,4))\n",
    "ax = fig.add_subplot(111)\n",
    "bar_color_list = ['b', 'brown', 'olive', 'darkorange']\n",
    "for est_idx , (est_name, est) in enumerate(estimator_dict.items()):\n",
    "    auc_mean_list = []\n",
    "    auc_se_list = []\n",
    "    for n_f in no_features_to_pick_list:\n",
    "        auc_array = all_result_df.loc[(all_result_df['classifier'] == est_name) & (all_result_df['num_features_picked'] == n_f), 'AUC'].values\n",
    "        auc_mean = np.mean(auc_array)\n",
    "        auc_se = np.std(auc_array)/np.sqrt(len(auc_array))\n",
    "\n",
    "        auc_mean_list.append(auc_mean)\n",
    "        auc_se_list.append(auc_se)\n",
    "    ax.errorbar(x=no_features_to_pick_list, y=auc_mean_list, yerr=auc_se_list, label=est_name, \n",
    "                color=bar_color_list[est_idx], uplims=True, lolims=True)\n",
    "ax.legend()\n",
    "ax.set_ylabel('AUC')\n",
    "ax.set_xlabel('# features selected using RFE')\n",
    "ax.set_ylim([None,1.00])\n",
    "fig.savefig(plot_path+\"Figure_2B.tiff\", dpi=600, format=\"tiff\", pil_kwargs={\"compression\": \"tiff_lzw\"})\n",
    "\n",
    "\n",
    "print('Done!')"
   ]
  },
  {
   "cell_type": "markdown",
   "metadata": {},
   "source": [
    "Based on the result in the above plot, they can set the value of `top_N` to the number of features they would like to include (N) in the final classifier. Based on the results in the above plot for the readmission dataset, we are setting this value to 6."
   ]
  },
  {
   "cell_type": "code",
   "execution_count": 80,
   "metadata": {},
   "outputs": [],
   "source": [
    "top_N = 6"
   ]
  },
  {
   "cell_type": "markdown",
   "metadata": {},
   "source": [
    "\n",
    "### Visualizing the top N features selected by RFE in 100 runs\n",
    "This code block analyzes the results of the RFE process above to identify the top_N features for the four classification algorithms, and visualize them as a bar chart like in Figure 4A in our original COVID-19 article."
   ]
  },
  {
   "cell_type": "code",
   "execution_count": 81,
   "metadata": {},
   "outputs": [
    {
     "data": {
      "image/png": "[encoded data removed]",
      "text/plain": [
       "<Figure size 1080x1080 with 4 Axes>"
      ]
     },
     "metadata": {
      "needs_background": "light"
     },
     "output_type": "display_data"
    }
   ],
   "source": [
    "estimator_dict = {\n",
    "            'XGBoost': XGBClassifier,\n",
    "            'LR': LogisticRegression,\n",
    "            'SVM': LinearSVC,\n",
    "            'RF': RandomForestClassifier\n",
    "}\n",
    "cp = sns.color_palette(n_colors=len(estimator_dict))\n",
    "all_result_df = pd.read_csv(result_path+'RFE_result.csv')\n",
    "feature_name_list = list(df_development_imputed_dropped_high_corr.columns.values)\n",
    "estimator_full_name_dict = {'XGBoost': 'XGBoost',\n",
    "            'LR': 'Logistic Regression',\n",
    "            'SVM': 'Support Vector Machine',\n",
    "            'RF': 'Random Forest'}\n",
    "\n",
    "set_of_seed = [range(100)]\n",
    "\n",
    "# Code for bar plot\n",
    "top_n_list = [top_N]\n",
    "bar_color_list = ['b', 'brown', 'olive', 'darkorange']\n",
    "for top_n in top_n_list:\n",
    "    top_n_df = all_result_df[all_result_df['num_features_picked'] == top_n]\n",
    "    freq_df_list = []\n",
    "    freq_df = pd.DataFrame(columns=['set_to_run', 'classifier', 'freq', 'feature'])\n",
    "    feature_frequency_dict_by_clf = dict()\n",
    "    fig2, axs = plt.subplots(4, figsize=(15,15))\n",
    "    top_n_df_by_seed_set = top_n_df\n",
    "    for est_idx, (est_name, est) in enumerate(estimator_dict.items()):\n",
    "        top_n_df_by_clf = top_n_df_by_seed_set[top_n_df_by_seed_set['classifier']==est_name]\n",
    "\n",
    "        for idx, f_name in enumerate(feature_name_list):\n",
    "            freq = sum(top_n_df_by_clf[f_name].values)\n",
    "            dict_to_append = {'classifier': est_name,\n",
    "                              'freq': freq, 'feature': f_name}\n",
    "            freq_df = freq_df.append(dict_to_append, ignore_index=True)\n",
    "\n",
    "\n",
    "        freq_df_est = freq_df[freq_df['classifier']==est_name]\n",
    "        freq_df_est = freq_df_est.sort_values(by=['freq'], ascending=False).iloc[:top_n]\n",
    "        axs[est_idx] = sns.barplot(ax=axs[est_idx], x=\"freq\", y=\"feature\", data=freq_df_est, orient='h', color=cp[est_idx])\n",
    "\n",
    "        axs[est_idx].set_yticks(range(top_n))\n",
    "        axs[est_idx].set_title(estimator_full_name_dict[est_name], fontweight='bold',fontsize = 20)\n",
    "        axs[est_idx].set_xlim([0, set_of_seed[-1][-1]+1])\n",
    "        axs[est_idx].set_xlabel('')\n",
    "        new_yticks_label = []\n",
    "        axs[est_idx].set_ylabel('')\n",
    "        for idx, yticks in enumerate(axs[est_idx].get_yticklabels()):\n",
    "            new_yticks_label.append(\"{} ({})\".format(yticks.get_text(), freq_df_est['freq'].iloc[idx]))\n",
    "        axs[est_idx].set_yticklabels(new_yticks_label, fontsize=18)\n",
    "    fig2.savefig(plot_path+'Figure_4A_top{}_frequency_by_clf.tif'.format(top_n), \n",
    "                 bbox_inches=\"tight\", dpi=600, pil_kwargs={\"compression\": \"tiff_lzw\"})\n"
   ]
  },
  {
   "cell_type": "markdown",
   "metadata": {},
   "source": [
    "# Apply the final classifiers based on all the features and the subset identified using RFE to the testing dataset(s)\n",
    "\n",
    "In our original COVID-19 study, we identified XGBoost as the most effective classification algorithm. The same is the case with the example readmission data, based on the RFE results shown above. Thus, the following code trains two XGBoost classifiers with the full set of features, and the subset of features identified using RFE (the value of the top_N variables), respectively. However, this can be changed to any classification algorithm that is determined to perform the best for the dataset under consideration, by changing the variable `clf_key` = `'XGBoost'` to be `'RF'`, `'LR'` or `'SVM'` below, as per the results in the above analyses.\n"
   ]
  },
  {
   "cell_type": "code",
   "execution_count": 95,
   "metadata": {},
   "outputs": [],
   "source": [
    "clf_key = 'XGBoost'"
   ]
  },
  {
   "cell_type": "code",
   "execution_count": 102,
   "metadata": {},
   "outputs": [
    {
     "name": "stdout",
     "output_type": "stream",
     "text": [
      "Finished training XGBoost with the full set of features.\n"
     ]
    }
   ],
   "source": [
    "\n",
    "config = configparser.ConfigParser()\n",
    "config.read(config_fn)\n",
    "config_IO = config['FileIO']\n",
    "\n",
    "df_test = pd.read_csv(data_path+config_IO['df_test'])\n",
    "y_test = pd.read_csv(data_path+config_IO['y_test'])\n",
    "\n",
    "out_fn_format = config_IO['predicted_score_format']\n",
    "\n",
    "dict_clf = {'XGBoost': XGBClassifier,\n",
    "            'LR': LogisticRegression,\n",
    "            'SVM': LinearSVC,\n",
    "            'RF': RandomForestClassifier}\n",
    "\n",
    "\n",
    "clf_xgb = dict_clf[clf_key]()\n",
    "clf_xgb.fit(df_development_imputed_dropped_high_corr, y_development)\n",
    "\n",
    "print('Finished training {} with the full set of features.'.format(clf_key))"
   ]
  },
  {
   "cell_type": "code",
   "execution_count": 103,
   "metadata": {},
   "outputs": [
    {
     "name": "stdout",
     "output_type": "stream",
     "text": [
      "Top 6 features selected by :\n",
      "\n",
      "number_inpatient            100\n",
      "discharge_disposition_id    100\n",
      "admission_source_id          97\n",
      "diabetesMed                  73\n",
      "A1Cresult                    62\n",
      "number_emergency             39\n",
      "dtype: int64\n",
      "\n",
      "\n",
      "Finished training XGBoost with the selected best-performing subset of features.\n"
     ]
    }
   ],
   "source": [
    "all_result_df = pd.read_csv(result_path+'RFE_result.csv')\n",
    "\n",
    "\n",
    "all_result_df_only_xgb = all_result_df.loc[(all_result_df['classifier']==clf_key)&(all_result_df['num_features_picked'] == top_N) , df_development_imputed_dropped_high_corr.columns.tolist()]\n",
    "topn_feat_df = all_result_df_only_xgb.sum().sort_values(ascending=False)[:top_N]\n",
    "print('Top {} features selected by :\\n'.format(top_N, clf_key))\n",
    "print(topn_feat_df)\n",
    "\n",
    "subset_of_features = topn_feat_df.index.tolist()\n",
    "df_development_subset = df_development_imputed[subset_of_features]\n",
    "clf_xgb_subset = dict_clf[clf_key]()\n",
    "clf_xgb_subset.fit(df_development_subset, y_development)\n",
    "\n",
    "print('\\n\\nFinished training {} with the selected best-performing subset of features.'.format(clf_key))"
   ]
  },
  {
   "cell_type": "markdown",
   "metadata": {},
   "source": [
    "### Pre-process the test data before applying the above classifiers"
   ]
  },
  {
   "cell_type": "code",
   "execution_count": 104,
   "metadata": {},
   "outputs": [
    {
     "name": "stdout",
     "output_type": "stream",
     "text": [
      "Finished pre-processing on test data\n"
     ]
    }
   ],
   "source": [
    "# Store the remaining features after discarding those more than 20% missing values, the level determined in the analysis above in our original study. \n",
    "# This can be changed to any level determined for a given dataset.\n",
    "features_20_per = df_development_imputed_dropped_high_corr.columns.tolist()\n",
    "\n",
    "def preprocessing_test_data(development_feature_list, testing_feature, development_imputer_cont, development_cont_scaler,\n",
    "                           development_categorical_imputer, feature_subset_list):\n",
    "    \n",
    "    \n",
    "    df_test_filtered = testing_feature[development_feature_list]\n",
    "    # Impute missing values in the continuous features using the corresponding mean values from the development set\n",
    "    cont_feat_test = list(set(continous_feature) & set(df_test_filtered.columns.tolist()))\n",
    "    X_test_cont = df_test_filtered[cont_feat_test]\n",
    "\n",
    "\n",
    "    imputed_X_test_cont = pd.DataFrame(development_imputer_cont.transform(X_test_cont),columns = X_test_cont.columns.tolist())\n",
    "    X_test = pd.DataFrame(development_cont_scaler.transform(imputed_X_test_cont), columns =  imputed_X_test_cont.columns.tolist())\n",
    "\n",
    "    columns = X_test_cont.columns.tolist()\n",
    "    X_test_cate_miss = df_test_filtered.drop(columns,axis =1)\n",
    "    test_features_cate = X_test_cate_miss[X_test_cate_miss.columns]\n",
    "\n",
    "    # Impute missing values in the categorical features using the corresponding mode values from the development set\n",
    "    imputed_X_test_cate = pd.DataFrame(development_categorical_imputer.transform(test_features_cate),columns = test_features_cate.columns.tolist())\n",
    "\n",
    "    # concatenate all continuous and categorical features in the test set after imputation\n",
    "    df_test_imputed_out= pd.concat([X_test,imputed_X_test_cate], axis=1)\n",
    "\n",
    "\n",
    "    df_test_imputed_out = df_test_imputed_out[development_feature_list]\n",
    "\n",
    "    Test_features_subset_out = df_test_imputed_out[feature_subset_list]\n",
    "    \n",
    "    return df_test_imputed_out, Test_features_subset_out\n",
    "    \n",
    "df_test_imputed, Test_features_subset = preprocessing_test_data(features_20_per,\n",
    "                                                               df_test, my_imputer, ss,\n",
    "                                                               my_imputer_mf, subset_of_features)\n",
    "\n",
    "print('Finished pre-processing on test data')"
   ]
  },
  {
   "cell_type": "code",
   "execution_count": 106,
   "metadata": {},
   "outputs": [
    {
     "name": "stdout",
     "output_type": "stream",
     "text": [
      "Finished and saved predictions on the test set\n"
     ]
    }
   ],
   "source": [
    "# The following code block applies the two classifiers trained above to the test set\n",
    "y_score_xgb_17_features = clf_xgb.predict_proba(df_test_imputed)[:,1]\n",
    "y_score_xgb_3 = clf_xgb_subset.predict_proba(Test_features_subset)[:,1]\n",
    "Predicted_and_actual_scores_3f_17F_test1 = pd.DataFrame({'test_actual_label':y_test.squeeze(),\n",
    "                                                         'score_{}F_predicted'.format(len(subset_of_features)):y_score_xgb_3 ,\n",
    "                                                         'score_{}F_predicted'.format(df_development_imputed_dropped_high_corr.shape[1]):y_score_xgb_17_features})\n",
    "\n",
    "Predicted_and_actual_scores_3f_17F_test1.to_csv(result_path+out_fn_format.format(''), index = False)\n",
    "\n",
    "print('Finished and saved predictions on the test set')"
   ]
  },
  {
   "cell_type": "markdown",
   "metadata": {},
   "source": [
    "## Pre-process additional test data \n",
    "In our original article, we evaluated the classifiers on an additional test dataset of patients admitted on 6th April 2020. The following code block was used to prepare that data set and apply the classifiers in a manner similar to that for the first test set described above."
   ]
  },
  {
   "cell_type": "code",
   "execution_count": 107,
   "metadata": {},
   "outputs": [],
   "source": [
    "config = configparser.ConfigParser()\n",
    "config.read(config_fn)\n",
    "config_IO = config['FileIO']\n",
    "\n",
    "test_feature_fn_list = parse_list(config_IO['other_test_feature'])\n",
    "test_label_fn_list = parse_list(config_IO['other_test_label'])\n",
    "\n",
    "if test_feature_fn_list[0] != 'None':\n",
    "    for idx, (test_feature_fn, test_fn_label) in enumerate(zip(test_feature_fn_list, test_label_fn_list)):\n",
    "        df_test_feat = pd.read_csv(data_path+test_feature_fn)\n",
    "        df_test_y = pd.read_csv(data_path+test_fn_label)\n",
    "        df_test_y_np = df_test_y.values\n",
    "\n",
    "        Test_features_subset_test2 = df_test_feat[subset_of_features]\n",
    "        y_score_xgb_17_features_test2 = clf_xgb.predict_proba(df_test_feat[df_development_imputed_dropped_high_corr.columns.tolist()])[:,1]\n",
    "        y_score_xgb_3_test2 = clf_xgb_subset.predict_proba(Test_features_subset_test2)[:,1]\n",
    "        Predicted_and_actual_scores_3f_17F_test2 = pd.DataFrame({'test_actual_label':df_test_y_np.squeeze(),\n",
    "                                                                 'score_{}F_predicted'.format(len(subset_of_features)):y_score_xgb_3_test2 ,\n",
    "                                                                 'score_{}F_predicted'.format(df_development_imputed_dropped_high_corr.shape[1]): y_score_xgb_17_features_test2})\n",
    "        Predicted_and_actual_scores_3f_17F_test2.to_csv(result_path+out_fn_format.format(idx), index = False)\n",
    "\n",
    "    print('Saved other testing results.')\n",
    "    "
   ]
  },
  {
   "cell_type": "markdown",
   "metadata": {},
   "source": [
    "Note that this code block isn’t applicable to the example readmission dataset provided here, but can be modified and used where other test datasets are available."
   ]
  },
  {
   "cell_type": "markdown",
   "metadata": {},
   "source": [
    "## Generate figures showing the performances of the classifiers in terms of ROC and calibration curves\n",
    "The following code block visualizes the performances of the classifiers on the test set(s) in terms of ROC and calibration curves, and their area and slope and intercept respectively. Also shown is the code for calculating the confidence intervals of these measures. This code yields figures of the type shown in Figure 3 of our article."
   ]
  },
  {
   "cell_type": "code",
   "execution_count": 108,
   "metadata": {},
   "outputs": [
    {
     "data": {
      "image/png": "[encoded data removed]",
      "text/plain": [
       "<Figure size 864x360 with 2 Axes>"
      ]
     },
     "metadata": {
      "needs_background": "light"
     },
     "output_type": "display_data"
    }
   ],
   "source": [
    "# bootstrapping AUC scores for calculating confidence intervals. \n",
    "# Code adapted from https://stackoverflow.com/questions/19124239/scikit-learn-roc-curve-with-confidence-intervals\n",
    "def CI_auc(y_true, y_pred):\n",
    "    auc = roc_auc_score(y_true, y_pred)\n",
    "    bootstrapped_scores = []\n",
    "    for i in range(n_bootstraps):\n",
    "        # bootstrap by sampling with replacement on the prediction indices\n",
    "        indices = rng.randint(0, len(y_pred), len(y_pred))\n",
    "        if len(np.unique(y_true[indices])) < 2:\n",
    "            # We need at least one positive and one negative sample for ROC AUC\n",
    "            # to be defined: reject the sample\n",
    "            continue\n",
    "\n",
    "        score = roc_auc_score(y_true[indices], y_pred[indices])\n",
    "        bootstrapped_scores.append(score)\n",
    "\n",
    "    sorted_scores = np.array(bootstrapped_scores)\n",
    "    sorted_scores.sort()\n",
    "\n",
    "    # Computing the lower and upper bound of the 95% confidence interval\n",
    "    # You can change the bounds percentiles to 0.025 and 0.975 to get\n",
    "    # a 95% confidence interval instead.\n",
    "    confidence_lower = sorted_scores[int(0.025 * len(sorted_scores))]\n",
    "    confidence_upper = sorted_scores[int(0.975 * len(sorted_scores))]\n",
    "    return auc, confidence_lower, confidence_upper\n",
    "\n",
    "# Estimate slope and intercept of calibration curve\n",
    "def params_calibration_curve(y_true, y_pred):\n",
    "    fop, mpv = calibration_curve(y_true, y_pred, n_bins=10)\n",
    "    ols = sm.OLS(fop, sm.add_constant(mpv)).fit()\n",
    "    intercept, slope = ols.params\n",
    "    return intercept, slope\n",
    "\n",
    "# bootstrapping the slope and intercept to identify their confidence intervals\n",
    "def CI_calibration_curve(y_true, y_pred):\n",
    "    intercept, slope = params_calibration_curve(y_true, y_pred)\n",
    "    bootstrapped_intercept = []\n",
    "    bootstrapped_slope = []\n",
    "    for i in range(n_bootstraps):\n",
    "        # bootstrap by sampling with replacement on the prediction indices\n",
    "        indices = rng.randint(0, len(y_pred), len(y_pred))\n",
    "        if len(np.unique(y_true[indices])) < 2:\n",
    "            # We need at least one positive and one negative sample for calibration curve\n",
    "            # to be defined: reject the sample\n",
    "            continue\n",
    "\n",
    "        intercept, slope = params_calibration_curve(y_true[indices], y_pred[indices])\n",
    "        bootstrapped_intercept.append(intercept)\n",
    "        bootstrapped_slope.append(slope)\n",
    "\n",
    "\n",
    "    sorted_intercept = np.array(bootstrapped_intercept)\n",
    "    sorted_intercept.sort()\n",
    "\n",
    "    sorted_slope = np.array(bootstrapped_slope)\n",
    "    sorted_slope.sort()\n",
    "\n",
    "    # Computing the lower and upper bound of the 95% confidence interval\n",
    "    # You can change the bounds percentiles to 0.025 and 0.975 to get\n",
    "    # a 95% confidence interval instead.\n",
    "    confidence_lower_intercept = sorted_intercept[int(0.025 * len(sorted_intercept))]\n",
    "    confidence_upper_intercept = sorted_intercept[int(0.975 * len(sorted_intercept))]\n",
    "\n",
    "    confidence_lower_slope = sorted_slope[int(0.025 * len(sorted_slope))]\n",
    "    confidence_upper_slope = sorted_slope[int(0.975 * len(sorted_slope))]\n",
    "    return {'slope': [slope, confidence_lower_slope, confidence_upper_slope],\n",
    "            'intercept': [intercept, confidence_lower_intercept, confidence_upper_intercept]}\n",
    "\n",
    "\n",
    "# Plot AUC of full model versus reduced model, and also their calibration curve\n",
    "\n",
    "config = configparser.ConfigParser()\n",
    "config.read(config_fn)\n",
    "config_IO = config['FileIO']\n",
    "test_feature_fn_list = parse_list(config_IO['other_test_feature'])\n",
    "test_label_fn_list = parse_list(config_IO['other_test_label'])\n",
    "out_fn_format = config_IO['predicted_score_format']\n",
    "out_fn_suffix_list = ['']\n",
    "if test_feature_fn_list[0] != 'None':\n",
    "    out_fn_suffix_list = out_fn_suffix_list + list(range(len(test_feature_fn_list)))\n",
    "\n",
    "test_predictions_df_list = [result_path+out_fn_format.format(o) for o in out_fn_suffix_list]\n",
    "\n",
    "df_list = [pd.read_csv(fn) for fn in test_predictions_df_list]\n",
    "\n",
    "fig_size = (16,7)\n",
    "fig1, ax = plt.subplots(len(df_list),2, figsize=(12,5*len(df_list)))\n",
    "\n",
    "fig1.tight_layout(pad=5.0)\n",
    "fig1.subplots_adjust(wspace=0.45, hspace=0.25)\n",
    "label_fs = 18\n",
    "lw = 4\n",
    "legend_size = 12\n",
    "\n",
    "n_bootstraps = 1000\n",
    "rng_seed = 0  # control reproducibility\n",
    "true_label_column = 'test_actual_label'\n",
    "prediction_columns = df_list[0].columns.tolist()\n",
    "prediction_columns.remove(true_label_column)\n",
    "\n",
    "prediction_number_feature_used = [int(p.split('score_')[1].split('F_predicted')[0]) for p in prediction_columns]\n",
    "\n",
    "sorted_zipped = sorted(list(zip(prediction_columns, prediction_number_feature_used)), key = lambda x: x[1])\n",
    "\n",
    "prediction_number_feature_used = [x[1] for x in sorted_zipped]\n",
    "prediction_columns = [x[0] for x in sorted_zipped]\n",
    "\n",
    "\n",
    "data_dict = {'Test set {}'.format(i): [df[p] for p in prediction_columns] + [df['test_actual_label']] for i, df in enumerate(df_list)}\n",
    "\n",
    "figure_start_letter = ord('A')\n",
    "\n",
    "\n",
    "rng = np.random.RandomState(rng_seed)\n",
    "\n",
    "for idx, (k, v) in enumerate(data_dict.items()):\n",
    "    if len(data_dict) == 1:\n",
    "        ax1 = ax[0]\n",
    "        ax2 = ax[1]\n",
    "    else:\n",
    "        ax1 = ax[0, idx]\n",
    "        ax2 = ax[1, idx]\n",
    "\n",
    "    # plot AUC curve\n",
    "    fpr_3f, tpr_3f, _ = roc_curve(v[-1], v[0])\n",
    "    auc_3f, auc_3f_l, auc_3f_u = CI_auc(v[-1], v[0])\n",
    "\n",
    "    fpr_17f, tpr_17f, _ = roc_curve(v[-1], v[1])\n",
    "    auc_17f, auc_17f_l , auc_17f_u = CI_auc(v[-1], v[1])\n",
    "    \n",
    "\n",
    "    \n",
    "    ax1.plot(fpr_17f, tpr_17f, \n",
    "             linewidth=lw,color='darkorange', \n",
    "             label='{}F Model\\n(AUC = {:.2f} [{:.2f}-{:.2f}])'.format(prediction_number_feature_used[1], \n",
    "                                                                      auc_17f, auc_17f_l, auc_17f_u))\n",
    "    ax1.plot(fpr_3f, tpr_3f, \n",
    "             linewidth=lw, color='blue', \n",
    "             label='{}F Model\\n(AUC = {:.2f} [{:.2f}-{:.2f}])'.format(prediction_number_feature_used[0], \n",
    "                                                                      auc_3f, auc_3f_l, auc_3f_u))\n",
    "\n",
    "    ax1.set_xlabel('False Positive Rate', fontsize=label_fs)\n",
    "    ax1.set_ylabel('True Positive Rate', fontsize=label_fs)\n",
    "    ax1.legend(fontsize=legend_size, prop=dict(weight='bold'))\n",
    "    ax1.tick_params(axis='both', which='major', labelsize=16)\n",
    "    ax1.plot([0, 1], [0, 1], lw=lw, color='black', linestyle='--')\n",
    "    ax1.text(-0.45, 0.5, '({})'.format(chr(figure_start_letter+idx)), fontsize=28, weight='bold')\n",
    "    ax1.set_title(k, fontsize=20)\n",
    "\n",
    "    # plot calibration curve\n",
    "    fop_3f, mpv_3f = calibration_curve(v[-1], v[0], n_bins=10)\n",
    "    c3f = CI_calibration_curve(v[-1], v[0])\n",
    "    c3f_s = c3f['slope']\n",
    "    c3f_i = c3f['intercept']\n",
    "\n",
    "\n",
    "    fop_17f, mpv_17f = calibration_curve(v[-1], v[1], n_bins=10)\n",
    "    c17f = CI_calibration_curve(v[-1], v[1])\n",
    "    c17f_s = c17f['slope']\n",
    "    c17f_i = c17f['intercept']\n",
    "    ax2.plot(mpv_17f, fop_17f, \"s-\", color='darkorange', linewidth=lw,\n",
    "             label='{} Model\\n(S = {:.2f} [{:.2f}-{:.2f}],\\nI = {:.2f} [{:.2f}-{:.2f}])'.format(prediction_number_feature_used[1],\n",
    "                                                                                                c17f_s[0], c17f_s[1], c17f_s[2],\n",
    "                                                                                                          c17f_i[0], c17f_i[1], c17f_i[2]))\n",
    "    ax2.plot(mpv_3f, fop_3f, \"s-\", color='blue', linewidth=lw,\n",
    "             label='{} Model\\n(S = {:.2f} [{:.2f}-{:.2f}],\\nI = {:.2f} [{:.2f}-{:.2f}])'.format(prediction_number_feature_used[0],\n",
    "                                                                                                c3f_s[0], c3f_s[1], c3f_s[2],\n",
    "                                                                                                   c3f_i[0], c3f_i[1], c3f_i[2]))\n",
    "    ax2.set_xlabel('Mean Predicted Value', fontsize=label_fs)\n",
    "    ax2.set_ylabel('Fraction of Positives', fontsize=label_fs)\n",
    "    ax2.legend(loc=4, fontsize=legend_size, prop=dict(weight='bold'))\n",
    "    ax2.tick_params(axis='both', which='major', labelsize=16)\n",
    "    ax2.plot([0, 1], [0, 1], color='black', lw=lw, linestyle='--')\n",
    "    ax2.text(-0.45, 0.5, '({})'.format(chr(figure_start_letter+len(data_dict)+idx)), fontsize=28, weight='bold')\n",
    "\n",
    "\n",
    "fig1.savefig(plot_path+'Figure3.tif', bbox_inches=\"tight\", dpi=600, pil_kwargs={\"compression\": \"tiff_lzw\"})"
   ]
  }
 ],
 "metadata": {
  "kernelspec": {
   "display_name": "Python 3",
   "language": "python",
   "name": "python3"
  },
  "language_info": {
   "codemirror_mode": {
    "name": "ipython",
    "version": 3
   },
   "file_extension": ".py",
   "mimetype": "text/x-python",
   "name": "python",
   "nbconvert_exporter": "python",
   "pygments_lexer": "ipython3",
   "version": "3.6.4"
  }
 },
 "nbformat": 4,
 "nbformat_minor": 2
}
